{
 "cells": [
  {
   "cell_type": "code",
   "execution_count": 1,
   "metadata": {},
   "outputs": [],
   "source": [
    "# Author : Amir Shokri\n",
    "# github link : https://github.com/amirshnll/Lung-Cancer\n",
    "# dataset link : http://archive.ics.uci.edu/ml/datasets/Lung+Cancer\n",
    "# email : amirsh.nll@gmail.com"
   ]
  },
  {
   "cell_type": "code",
   "execution_count": 4,
   "metadata": {},
   "outputs": [],
   "source": [
    "import numpy as np, matplotlib.pyplot as plt\n",
    "import pandas as pd\n",
    "from sklearn.neighbors import KNeighborsClassifier\n",
    "from sklearn.model_selection import train_test_split\n",
    "from sklearn.naive_bayes import GaussianNB\n",
    "from sklearn.metrics import accuracy_score\n",
    "from sklearn import tree\n",
    "from sklearn.neural_network import MLPClassifier\n",
    "from sklearn.linear_model import LogisticRegression\n",
    "import seaborn as sns\n",
    "sns.set()"
   ]
  },
  {
   "cell_type": "code",
   "execution_count": 5,
   "metadata": {},
   "outputs": [],
   "source": [
    "def Read_Data(address, Name='*.csv', Sperator=';'):\n",
    "    Data = pd.read_csv(address+Name, sep=Sperator, header=None)\n",
    "#    Data = Data.dropna()\n",
    "    X = Data.drop([0], axis=1)\n",
    "    Y = Data.iloc[:,0]\n",
    "    return X, Y"
   ]
  },
  {
   "cell_type": "code",
   "execution_count": 6,
   "metadata": {},
   "outputs": [],
   "source": [
    "def KNN_Plot(X, Y, n1, n2, knn_title):\n",
    "    \n",
    "    '''\n",
    "    n1 and n2 are Neighbours\n",
    "    '''\n",
    "    \n",
    "    neighbors = np.arange(n1, n2)\n",
    "    train_acc = np.empty(len(neighbors))\n",
    "    test_acc = np.empty(len(neighbors))\n",
    "    \n",
    "    x_train, x_test, y_train, y_test = train_test_split(X,\n",
    "                                                        Y,\n",
    "                                                        test_size=.2,\n",
    "                                                        random_state=42,\n",
    "                                                        stratify=Y)\n",
    "    \n",
    "    for i, k in enumerate(neighbors):\n",
    "        knn_model = KNeighborsClassifier(n_neighbors=k, weights='distance',\n",
    "                                         algorithm='auto', p=2)\n",
    "        knn_model.fit(x_train, y_train)\n",
    "        TAcc = knn_model.score(x_train, y_train)\n",
    "        TAcc *= 100\n",
    "        TAcc = float(format(TAcc,'.2f'))\n",
    "        train_acc[i] = TAcc\n",
    "        \n",
    "        pred = knn_model.predict(x_test)\n",
    "        Test_acc = accuracy_score(y_test, pred)\n",
    "        Test_acc *= 100\n",
    "        Test_acc = float(format(Test_acc,'.2f'))\n",
    "        test_acc[i] = Test_acc\n",
    "        \n",
    "    plt.plot(neighbors, train_acc, label='Train Accuracy')\n",
    "    plt.plot(neighbors, test_acc, label='Test Accuracy')\n",
    "    plt.legend(loc='best')\n",
    "    plt.title(knn_title)\n",
    "    plt.xlabel('Neighbors')\n",
    "    plt.ylabel('Accuracy (%)')\n",
    "    plt.xticks(neighbors)\n",
    "    plt.show()\n",
    "    \n",
    "    return knn_model"
   ]
  },
  {
   "cell_type": "code",
   "execution_count": 7,
   "metadata": {},
   "outputs": [],
   "source": [
    "def NB(x, y):\n",
    "   \n",
    "    x_train, x_test, y_train, y_test = train_test_split(x, y,\n",
    "                                                        test_size=.2,\n",
    "                                                        random_state=42,\n",
    "                                                        stratify=y)\n",
    "    \n",
    "    \n",
    "    nb_clf = GaussianNB()\n",
    "    nb_clf.fit(x_train, y_train)\n",
    "    Predict_nb_clf = nb_clf.predict(x_test)\n",
    "    Accuracy = accuracy_score(y_test, Predict_nb_clf)\n",
    "    \n",
    "    Accuracy *= 100\n",
    "    print('GaussianNB Accuracy: ')\n",
    "    print(float(format(Accuracy,'.2f')))\n",
    "    print('---------------------------------\\n')\n",
    "    \n",
    "    return Accuracy"
   ]
  },
  {
   "cell_type": "code",
   "execution_count": 8,
   "metadata": {},
   "outputs": [],
   "source": [
    "def Tree(X, Y):\n",
    "    \n",
    "    x_train, x_test, y_train, y_test = train_test_split(X,\n",
    "                                                        Y,\n",
    "                                                        test_size=.2,\n",
    "                                                        random_state=42,\n",
    "                                                        stratify=Y)\n",
    "    \n",
    "    clf = tree.DecisionTreeClassifier(random_state=80)\n",
    "    clf.fit(x_train, y_train)\n",
    "    \n",
    "    Predict = clf.predict(x_test)\n",
    "    Accuracy = accuracy_score(y_test, Predict)\n",
    "\n",
    "    Accuracy *= 100\n",
    "    print('DecisionTree Accuracy: ')\n",
    "    print(float(format(Accuracy,'.2f')))\n",
    "    print('---------------------------------\\n')\n",
    "    \n",
    "    return Accuracy"
   ]
  },
  {
   "cell_type": "code",
   "execution_count": 80,
   "metadata": {},
   "outputs": [],
   "source": [
    "def MLP(X, Y):\n",
    "    \n",
    "    x_train, x_test, y_train, y_test = train_test_split(X,\n",
    "                                                        Y,\n",
    "                                                        test_size=.2,\n",
    "                                                        random_state=42,\n",
    "                                                        stratify=Y)\n",
    "    \n",
    "    mlp = MLPClassifier(hidden_layer_sizes=(800,), max_iter=1000, random_state=50)\n",
    "    mlp.fit(x_train, y_train)\n",
    "\n",
    "    Predict = mlp.predict(x_test)\n",
    "    Accuracy = accuracy_score(y_test, Predict)\n",
    "\n",
    "    Accuracy *= 100\n",
    "    print('MLP Accuracy: ')\n",
    "    print(float(format(Accuracy,'.2f')))\n",
    "    print('---------------------------------\\n')\n",
    "    \n",
    "    return Accuracy"
   ]
  },
  {
   "cell_type": "code",
   "execution_count": 81,
   "metadata": {},
   "outputs": [],
   "source": [
    "def LogisticRegressionClf(X, Y):\n",
    "    \n",
    "    x_train, x_test, y_train, y_test = train_test_split(X,\n",
    "                                                        Y,\n",
    "                                                        test_size=.2,\n",
    "                                                        random_state=50,\n",
    "                                                        stratify=Y)\n",
    "    \n",
    "    clf = LogisticRegression(random_state=50, solver='lbfgs', max_iter=200)\n",
    "    clf.fit(x_train, y_train)\n",
    "    \n",
    "    Predict = clf.predict(x_test)\n",
    "    Accuracy = accuracy_score(y_test, Predict)\n",
    "\n",
    "    Accuracy *= 100\n",
    "    print('LogisticRegression Accuracy: ')\n",
    "    print(float(format(Accuracy,'.2f')))\n",
    "    print('---------------------------------\\n')\n",
    "    \n",
    "    return Accuracy"
   ]
  },
  {
   "cell_type": "code",
   "execution_count": 82,
   "metadata": {
    "scrolled": true
   },
   "outputs": [
    {
     "name": "stdout",
     "output_type": "stream",
     "text": [
      "    1   2   3   4   5   6   7   8   9   10  ...  47  48  49  50  51  52  53  \\\n",
      "0    0   3   3   1   0   3   1   3   1   1  ...   2   2   2   2   2   2   2   \n",
      "1    0   3   3   2   0   3   3   3   1   1  ...   2   2   2   2   2   2   2   \n",
      "2    0   2   3   2   1   3   3   3   1   2  ...   2   2   2   2   2   2   2   \n",
      "3    0   3   2   1   1   3   3   3   2   2  ...   2   2   2   2   2   2   2   \n",
      "4    0   3   3   2   0   3   3   3   1   2  ...   2   2   2   2   2   2   2   \n",
      "5    0   3   2   1   0   3   3   3   1   2  ...   2   2   2   2   1   2   2   \n",
      "6    0   2   2   1   0   3   1   3   3   3  ...   2   2   1   2   2   2   2   \n",
      "7    0   3   1   1   0   3   1   3   1   1  ...   2   2   2   2   2   2   2   \n",
      "8    0   2   3   2   0   2   2   2   1   2  ...   2   2   2   1   3   2   1   \n",
      "9    0   2   2   0   0   3   2   3   1   1  ...   2   2   2   2   2   2   2   \n",
      "10   0   2   3   2   0   1   2   1   1   2  ...   2   2   2   2   2   1   1   \n",
      "11   0   2   1   1   0   1   2   2   1   2  ...   2   2   2   2   2   2   2   \n",
      "12   0   2   2   1   1   2   3   3   1   1  ...   2   2   2   2   2   1   1   \n",
      "13   0   3   2   2   1   2   2   2   1   1  ...   2   2   2   2   2   2   2   \n",
      "14   0   3   2   2   0   1   1   3   1   1  ...   2   2   2   2   2   2   2   \n",
      "15   0   2   1   1   0   2   1   3   1   1  ...   2   2   2   2   2   1   1   \n",
      "16   0   1   2   1   0   3   3   3   1   2  ...   2   2   2   2   2   1   1   \n",
      "17   0   3   3   2   0   2   1   3   1   1  ...   2   2   1   2   2   2   2   \n",
      "18   0   2   3   1   1   2   2   1   1   1  ...   3   3   3   3   1   3   3   \n",
      "19   0   2   3   1   1   1   2   1   1   1  ...   2   2   2   2   2   2   2   \n",
      "20   0   3   3   1   0   3   3   1   1   1  ...   2   2   2   2   3   2   2   \n",
      "21   0   2   2   2   0   2   1   2   1   1  ...   2   2   2   2   2   2   2   \n",
      "22   0   2   2   1   0   2   2   2   1   1  ...   3   3   2   2   3   2   2   \n",
      "23   0   3   2   2   0   2   2   2   1   1  ...   2   2   2   3   1   2   2   \n",
      "24   0   2   1   1   0   2   2   1   1   1  ...   2   2   3   2   2   2   2   \n",
      "25   0   2   3   2   1   2   2   3   1   1  ...   2   2   2   2   2   2   2   \n",
      "26   0   2   3   1   0   2   3   3   1   1  ...   2   2   2   2   2   2   2   \n",
      "\n",
      "    54  55  56  \n",
      "0    1   2   2  \n",
      "1    2   1   2  \n",
      "2    2   2   2  \n",
      "3    1   2   2  \n",
      "4    2   1   2  \n",
      "5    2   1   2  \n",
      "6    1   2   2  \n",
      "7    1   2   2  \n",
      "8    1   2   2  \n",
      "9    2   2   2  \n",
      "10   2   2   1  \n",
      "11   1   2   2  \n",
      "12   1   2   2  \n",
      "13   2   2   2  \n",
      "14   1   2   2  \n",
      "15   1   2   2  \n",
      "16   2   2   1  \n",
      "17   2   1   2  \n",
      "18   2   2   1  \n",
      "19   2   2   1  \n",
      "20   2   2   1  \n",
      "21   1   2   1  \n",
      "22   2   2   1  \n",
      "23   2   2   2  \n",
      "24   2   2   1  \n",
      "25   1   2   2  \n",
      "26   2   2   2  \n",
      "\n",
      "[27 rows x 56 columns] 0     1\n",
      "1     1\n",
      "2     1\n",
      "3     1\n",
      "4     1\n",
      "5     1\n",
      "6     1\n",
      "7     1\n",
      "8     2\n",
      "9     2\n",
      "10    2\n",
      "11    2\n",
      "12    2\n",
      "13    2\n",
      "14    2\n",
      "15    2\n",
      "16    2\n",
      "17    2\n",
      "18    3\n",
      "19    3\n",
      "20    3\n",
      "21    3\n",
      "22    3\n",
      "23    3\n",
      "24    3\n",
      "25    3\n",
      "26    3\n",
      "Name: 0, dtype: int64\n"
     ]
    }
   ],
   "source": [
    "address = 'C:/'\n",
    "X, Y = Read_Data(address, Name='lc.csv', Sperator=';')\n",
    "print(X,Y)"
   ]
  },
  {
   "cell_type": "code",
   "execution_count": 83,
   "metadata": {
    "scrolled": true
   },
   "outputs": [
    {
     "data": {
      "image/png": "[encoded data removed]",
      "text/plain": [
       "<Figure size 432x288 with 1 Axes>"
      ]
     },
     "metadata": {},
     "output_type": "display_data"
    },
    {
     "data": {
      "text/plain": [
       "KNeighborsClassifier(n_neighbors=11, weights='distance')"
      ]
     },
     "execution_count": 83,
     "metadata": {},
     "output_type": "execute_result"
    }
   ],
   "source": [
    "n1 = 1\n",
    "n2 = 12\n",
    "knn_title = 'lung cancer knn Classifier'\n",
    "KNN_Plot(X, Y, n1, n2, knn_title)\n"
   ]
  },
  {
   "cell_type": "code",
   "execution_count": 84,
   "metadata": {},
   "outputs": [
    {
     "name": "stdout",
     "output_type": "stream",
     "text": [
      "GaussianNB Accuracy: \n",
      "66.67\n",
      "---------------------------------\n",
      "\n"
     ]
    }
   ],
   "source": [
    "Accuracy = NB(X, Y)"
   ]
  },
  {
   "cell_type": "code",
   "execution_count": 85,
   "metadata": {},
   "outputs": [
    {
     "name": "stdout",
     "output_type": "stream",
     "text": [
      "DecisionTree Accuracy: \n",
      "83.33\n",
      "---------------------------------\n",
      "\n"
     ]
    }
   ],
   "source": [
    "Accuracy = Tree(X, Y)"
   ]
  },
  {
   "cell_type": "code",
   "execution_count": 86,
   "metadata": {},
   "outputs": [
    {
     "name": "stdout",
     "output_type": "stream",
     "text": [
      "MLP Accuracy: \n",
      "16.67\n",
      "---------------------------------\n",
      "\n"
     ]
    }
   ],
   "source": [
    "Accuracy = MLP(X, Y)"
   ]
  },
  {
   "cell_type": "code",
   "execution_count": 16,
   "metadata": {},
   "outputs": [
    {
     "name": "stdout",
     "output_type": "stream",
     "text": [
      "LogisticRegression Accuracy: \n",
      "50.0\n",
      "---------------------------------\n",
      "\n"
     ]
    }
   ],
   "source": [
    "LGR_Accuraccy = LogisticRegressionClf(X, Y)"
   ]
  }
 ],
 "metadata": {
  "kernelspec": {
   "display_name": "Python 3",
   "language": "python",
   "name": "python3"
  },
  "language_info": {
   "codemirror_mode": {
    "name": "ipython",
    "version": 3
   },
   "file_extension": ".py",
   "mimetype": "text/x-python",
   "name": "python",
   "nbconvert_exporter": "python",
   "pygments_lexer": "ipython3",
   "version": "3.8.3"
  }
 },
 "nbformat": 4,
 "nbformat_minor": 2
}
